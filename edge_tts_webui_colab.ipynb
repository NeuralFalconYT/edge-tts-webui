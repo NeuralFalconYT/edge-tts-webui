{
  "nbformat": 4,
  "nbformat_minor": 0,
  "metadata": {
    "colab": {
      "provenance": []
    },
    "kernelspec": {
      "name": "python3",
      "display_name": "Python 3"
    },
    "language_info": {
      "name": "python"
    }
  },
  "cells": [
    {
      "cell_type": "markdown",
      "source": [
        "##Credit: [edge-tts GitHub](https://github.com/rany2/edge-tts)"
      ],
      "metadata": {
        "id": "F0QxhgYqfepp"
      }
    },
    {
      "cell_type": "code",
      "execution_count": 1,
      "metadata": {
        "cellView": "form",
        "id": "J_ZCsjU9cA0d"
      },
      "outputs": [],
      "source": [
        "#@title Install Edge-TTS WebUI\n",
        "!git clone https://github.com/NeuralFalconYT/edge-tts-webui.git\n",
        "%cd edge-tts-webui\n",
        "!pip install -r requirements.txt\n",
        "from IPython.display import clear_output\n",
        "clear_output()\n"
      ]
    },
    {
      "cell_type": "code",
      "source": [
        "%cd /content/edge-tts-webui\n",
        "!python app.py --debug --share"
      ],
      "metadata": {
        "id": "nQWr0lzkgUWm"
      },
      "execution_count": null,
      "outputs": []
    }
  ]
}